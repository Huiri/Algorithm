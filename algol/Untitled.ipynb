{
 "cells": [
  {
   "cell_type": "code",
   "execution_count": 5,
   "metadata": {},
   "outputs": [
    {
     "name": "stdout",
     "output_type": "stream",
     "text": [
      "1 2\n",
      "3\n"
     ]
    }
   ],
   "source": [
    "a,b = input().split()\n",
    "print(int(a)+int(b)) "
   ]
  },
  {
   "cell_type": "code",
   "execution_count": 6,
   "metadata": {},
   "outputs": [
    {
     "name": "stdout",
     "output_type": "stream",
     "text": [
      "3 4\n",
      "0.75\n"
     ]
    }
   ],
   "source": [
    "a,b = input().split()\n",
    "print(int(a)/int(b)) "
   ]
  },
  {
   "cell_type": "code",
   "execution_count": 9,
   "metadata": {},
   "outputs": [
    {
     "name": "stdout",
     "output_type": "stream",
     "text": [
      "The first character is a blank\n",
      "6\n"
     ]
    }
   ],
   "source": [
    "a = input().split()\n",
    "print(len(a))"
   ]
  },
  {
   "cell_type": "code",
   "execution_count": 18,
   "metadata": {},
   "outputs": [
    {
     "name": "stdout",
     "output_type": "stream",
     "text": [
      "baaa\n"
     ]
    },
    {
     "data": {
      "text/plain": [
       "[0]"
      ]
     },
     "execution_count": 18,
     "metadata": {},
     "output_type": "execute_result"
    }
   ],
   "source": [
    "word = input()\n",
    "#count는 특정 문자의 갯수 반환\n",
    "#find는 특정 문자의 가장 앞부분의 인덱스 반환(없는 경우 -1반환)\n",
    "A=word.count('a' or 'A')\n",
    "B=word.count('b' or 'B')\n",
    "C=word.count('c' or 'C')\n",
    "D=word.count('d' or 'D')\n",
    "E=word.count('e' or 'E')\n",
    "F=word.count('f' or 'F')\n",
    "G=word.count('g' or 'G')\n",
    "H=word.count('h' or 'H')\n",
    "I=word.count('i' or 'I')\n",
    "J=word.count('j' or 'J')\n",
    "K=word.count('k' or 'K')\n",
    "L=word.count('l' or 'L')\n",
    "M=word.count('m' or 'M')\n",
    "N=word.count('n' or 'N')\n",
    "O=word.count('o' or 'O')\n",
    "P=word.count('p' or 'P')\n",
    "Q=word.count('q' or 'Q')\n",
    "R=word.count('r' or 'R')\n",
    "S=word.count('s' or 'S')\n",
    "T=word.count('t' or 'T')\n",
    "U=word.count('u' or 'U')\n",
    "V=word.count('v' or 'V')\n",
    "W=word.count('w' or 'W')\n",
    "X=word.count('x' or 'X')\n",
    "Y=word.count('y' or 'Y')\n",
    "Z=word.count('z' or 'Z')\n",
    "count_list = [A,B,C,D,E,F,G,H,I,J,K,L,M,N,O,P,Q,R,S,T,U,V,W,X,Y,Z]\n",
    "max_count = max(count_list)\n",
    "[i for i, v in enumerate(count_list) if v== max_count]\n",
    "\n",
    "#if (max(count_list) > 2):\n",
    "#    print('?')\n",
    "#else :\n",
    "#    print(max(count_list))"
   ]
  },
  {
   "cell_type": "code",
   "execution_count": null,
   "metadata": {},
   "outputs": [],
   "source": []
  },
  {
   "cell_type": "code",
   "execution_count": null,
   "metadata": {},
   "outputs": [],
   "source": []
  }
 ],
 "metadata": {
  "kernelspec": {
   "display_name": "Python 3",
   "language": "python",
   "name": "python3"
  },
  "language_info": {
   "codemirror_mode": {
    "name": "ipython",
    "version": 3
   },
   "file_extension": ".py",
   "mimetype": "text/x-python",
   "name": "python",
   "nbconvert_exporter": "python",
   "pygments_lexer": "ipython3",
   "version": "3.8.5"
  }
 },
 "nbformat": 4,
 "nbformat_minor": 4
}
